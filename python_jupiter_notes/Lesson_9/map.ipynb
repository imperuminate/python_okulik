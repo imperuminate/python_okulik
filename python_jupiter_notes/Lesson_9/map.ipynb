{
 "cells": [
  {
   "cell_type": "code",
   "execution_count": null,
   "metadata": {},
   "outputs": [],
   "source": [
    "if True:\n",
    "    print('True')\n",
    "else:\n",
    "    print('False')"
   ]
  },
  {
   "cell_type": "code",
   "execution_count": 3,
   "metadata": {},
   "outputs": [
    {
     "data": {
      "text/plain": [
       "0.3"
      ]
     },
     "execution_count": 3,
     "metadata": {},
     "output_type": "execute_result"
    }
   ],
   "source": [
    "a = 1 / 3\n",
    "\n",
    "round(a, 1)"
   ]
  },
  {
   "cell_type": "markdown",
   "metadata": {},
   "source": [
    "## Map \n",
    "Aplly operation to each element"
   ]
  },
  {
   "cell_type": "code",
   "execution_count": null,
   "metadata": {},
   "outputs": [
    {
     "name": "stdout",
     "output_type": "stream",
     "text": [
      "[2, 4, 6, 8, 10]\n"
     ]
    }
   ],
   "source": [
    "my_list = [1, 2, 3, 4, 5]\n",
    "\n",
    "\n",
    "def mult_by_2(x):\n",
    "    return x * 2\n",
    "\n",
    "\n",
    "new_list = map(mult_by_2, my_list)\n",
    "print(list(new_list))"
   ]
  },
  {
   "cell_type": "code",
   "execution_count": null,
   "metadata": {},
   "outputs": [
    {
     "name": "stdout",
     "output_type": "stream",
     "text": [
      "Your name is red and your surname is rock\n"
     ]
    }
   ],
   "source": [
    "name, surname = input('Your name and surname:').split()\n",
    "print(f'Your name is {name} and your surname is {surname}')"
   ]
  },
  {
   "cell_type": "code",
   "execution_count": 9,
   "metadata": {},
   "outputs": [
    {
     "name": "stdout",
     "output_type": "stream",
     "text": [
      "Your code is 33 and your pin is 22\n"
     ]
    }
   ],
   "source": [
    "code, pin = map(int, input('Your code and pin:').split())\n",
    "print(f'Your code is {code} and your pin is {pin}')"
   ]
  },
  {
   "cell_type": "markdown",
   "metadata": {},
   "source": [
    "### lambda function"
   ]
  },
  {
   "cell_type": "code",
   "execution_count": 13,
   "metadata": {},
   "outputs": [
    {
     "name": "stdout",
     "output_type": "stream",
     "text": [
      "[2, 4, 6, 8, 10]\n"
     ]
    }
   ],
   "source": [
    "my_list = [1, 2, 3, 4, 5]\n",
    "\n",
    "\n",
    "new_list = map(lambda x: x * 2, my_list)\n",
    "print(list(new_list))"
   ]
  },
  {
   "cell_type": "markdown",
   "metadata": {},
   "source": [
    "### ternary operator"
   ]
  },
  {
   "cell_type": "code",
   "execution_count": 21,
   "metadata": {},
   "outputs": [
    {
     "name": "stdout",
     "output_type": "stream",
     "text": [
      "10\n"
     ]
    }
   ],
   "source": [
    "a = 5\n",
    "\n",
    "b = 10 if a != 10 else 5\n",
    "print(b)"
   ]
  },
  {
   "cell_type": "markdown",
   "metadata": {},
   "source": [
    "## Filter"
   ]
  },
  {
   "cell_type": "code",
   "execution_count": null,
   "metadata": {},
   "outputs": [
    {
     "name": "stdout",
     "output_type": "stream",
     "text": [
      "[2, 4, 6, 8, 10]\n"
     ]
    }
   ],
   "source": [
    "my_list = [1, 2, 3, 4, 5, 6, 7, 8, 9, 10]\n",
    "\n",
    "\n",
    "def is_even(x):\n",
    "    return x % 2 == 0\n",
    "\n",
    "\n",
    "new_list = filter(is_even, my_list)\n",
    "print(list(new_list))"
   ]
  },
  {
   "cell_type": "code",
   "execution_count": 23,
   "metadata": {},
   "outputs": [
    {
     "name": "stdout",
     "output_type": "stream",
     "text": [
      "[2, 4, 6, 8, 10]\n"
     ]
    }
   ],
   "source": [
    "my_list = [1, 2, 3, 4, 5, 6, 7, 8, 9, 10]\n",
    "\n",
    "new_list = filter(lambda x: x % 2 == 0, my_list)\n",
    "\n",
    "print(list(new_list))"
   ]
  },
  {
   "cell_type": "markdown",
   "metadata": {},
   "source": [
    "## Datetime"
   ]
  },
  {
   "cell_type": "code",
   "execution_count": 37,
   "metadata": {},
   "outputs": [
    {
     "name": "stdout",
     "output_type": "stream",
     "text": [
      "12\n",
      "2025-02-28 12:28:07.933535\n",
      "Fri Feb 28 12:28:07 2025\n",
      "2\n",
      "7\n",
      "1740770887.933425\n"
     ]
    }
   ],
   "source": [
    "import datetime\n",
    "\n",
    "time = datetime.datetime.now()\n",
    "print(time.hour)\n",
    "print(time.now())\n",
    "print(time.ctime())\n",
    "print(time.month)\n",
    "print(time.second)\n",
    "print(time.timestamp())"
   ]
  },
  {
   "cell_type": "code",
   "execution_count": 38,
   "metadata": {},
   "outputs": [
    {
     "name": "stdout",
     "output_type": "stream",
     "text": [
      "819961200.0\n"
     ]
    }
   ],
   "source": [
    "easy_date = datetime.datetime(1995, 12, 26)\n",
    "\n",
    "print(easy_date.timestamp())"
   ]
  },
  {
   "cell_type": "code",
   "execution_count": 43,
   "metadata": {},
   "outputs": [
    {
     "name": "stdout",
     "output_type": "stream",
     "text": [
      "2023-06-05 12:30:10\n"
     ]
    }
   ],
   "source": [
    "my_time = '2023/06/05 12 hours, 30 mins, 10 secs'\n",
    "python_date = datetime.datetime.strptime(\n",
    "    my_time, '%Y/%m/%d %H hours, %M mins, %S secs')\n",
    "print(python_date)"
   ]
  },
  {
   "cell_type": "code",
   "execution_count": 48,
   "metadata": {},
   "outputs": [
    {
     "name": "stdout",
     "output_type": "stream",
     "text": [
      "2023.06.05  12 hours, 30 minutes, 10 seconds\n"
     ]
    }
   ],
   "source": [
    "human_date = python_date.strftime('%Y.%m.%d  %H hours, %M minutes, %S seconds')\n",
    "print(human_date)"
   ]
  }
 ],
 "metadata": {
  "kernelspec": {
   "display_name": "Python 3",
   "language": "python",
   "name": "python3"
  },
  "language_info": {
   "codemirror_mode": {
    "name": "ipython",
    "version": 3
   },
   "file_extension": ".py",
   "mimetype": "text/x-python",
   "name": "python",
   "nbconvert_exporter": "python",
   "pygments_lexer": "ipython3",
   "version": "3.13.2"
  }
 },
 "nbformat": 4,
 "nbformat_minor": 2
}
