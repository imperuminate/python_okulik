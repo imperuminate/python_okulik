{
 "cells": [
  {
   "cell_type": "markdown",
   "metadata": {},
   "source": [
    "## OOP\n",
    "- Encapsulation - All an object data should be stored in an object. And nobody can change it withount an object\n",
    "- Inheritanse - hierarchy. Objects and their types organize the type hierarchy. Child classes inherit their functionality from the parent class, extending and complementing it. \n",
    "- Polimorphism - The ability of classes to change their behavior depending on the types of operations and operands. Polymorphism in programming is implemented through method overloading or through its redefinition."
   ]
  },
  {
   "cell_type": "code",
   "execution_count": 1,
   "metadata": {},
   "outputs": [
    {
     "data": {
      "text/plain": [
       "{'Country': 'Turkey', 'avg_temp': 30}"
      ]
     },
     "execution_count": 1,
     "metadata": {},
     "output_type": "execute_result"
    }
   ],
   "source": [
    "import json\n",
    "\n",
    "\n",
    "def read_file(file_name):\n",
    "    file_data = open(file_name)\n",
    "    data = json.load(file_data)\n",
    "    file_data.close()\n",
    "    return data\n",
    "\n",
    "\n",
    "data1 = read_file(\"data1.txt\")\n",
    "data2 = read_file(\"data2.txt\")\n",
    "data1"
   ]
  },
  {
   "cell_type": "code",
   "execution_count": null,
   "metadata": {},
   "outputs": [
    {
     "name": "stdout",
     "output_type": "stream",
     "text": [
      "Turkey\n",
      "30\n",
      "True\n",
      "Poland\n",
      "2\n",
      "15\n",
      "str File data1.txt with data {'Country': 'Turkey', 'avg_temp': 30}\n",
      "[repr File data1.txt with data {'Country': 'Turkey', 'avg_temp': 30}, repr File data3.txt with data {'Country': 'Poland', 'avg_temp': 15, 'min_temp': 2}]\n",
      "False\n",
      "False\n",
      "True\n",
      "True\n"
     ]
    }
   ],
   "source": [
    "import json\n",
    "\n",
    "\n",
    "class CountryData:\n",
    "    def __init__(self, file_name):\n",
    "        self.__file_name = file_name\n",
    "        self.__data = self.__read_file()\n",
    "        self.__country = self.__data[\"Country\"]\n",
    "        self.__avg_temp = self.__data[\"avg_temp\"]\n",
    "        self._comfort = self.__is_comfort()\n",
    "\n",
    "    @property\n",
    "    def file_name(self):\n",
    "        return self.__file_name\n",
    "\n",
    "    @property\n",
    "    def data(self):\n",
    "        return self.__data\n",
    "\n",
    "    @property\n",
    "    def country(self):\n",
    "        return self.__country\n",
    "\n",
    "    @property\n",
    "    def avg_temp(self):\n",
    "        return self.__avg_temp\n",
    "\n",
    "    @property\n",
    "    def comfort(self):\n",
    "        return self._comfort\n",
    "\n",
    "    @comfort.setter\n",
    "    def comfort(self, value):\n",
    "        self._comfort = value\n",
    "\n",
    "    def __read_file(self):\n",
    "        file_data = open(self.__file_name)\n",
    "        data = json.load(file_data)\n",
    "        file_data.close()\n",
    "        return data\n",
    "\n",
    "    def __is_comfort(self):\n",
    "        return self.__avg_temp > 25\n",
    "\n",
    "    def __str__(self):\n",
    "        return f\"str File {self.__file_name} with data {self.__data}\"\n",
    "\n",
    "    def __repr__(self):\n",
    "        return f\"repr File {self.__file_name} with data {self.__data}\"\n",
    "\n",
    "    def __lt__(self, obj):\n",
    "        return self.avg_temp < obj.avg_temp\n",
    "\n",
    "    def __le__(self, obj):\n",
    "        return self.avg_temp <= obj.avg_temp\n",
    "\n",
    "    def __add__(self, obj):\n",
    "        return [self, obj]\n",
    "\n",
    "\n",
    "class CountryDatas(CountryData):\n",
    "    def __init__(self, file_name):\n",
    "        super().__init__(file_name)\n",
    "        self.__min_temp = self.data[\"min_temp\"]\n",
    "\n",
    "    @property\n",
    "    def min_temp(self):\n",
    "        return self.__min_temp\n",
    "\n",
    "\n",
    "data1 = CountryData(\"data1.txt\")\n",
    "data3 = CountryDatas(\"data3.txt\")\n",
    "\n",
    "print(data1.country)\n",
    "print(data1.avg_temp)\n",
    "print(data1.comfort)\n",
    "print(data3.country)\n",
    "print(data3.min_temp)\n",
    "print(data3.avg_temp)\n",
    "print(data1)\n",
    "print(data1 + data3)\n",
    "print(data1 < data3)\n",
    "print(data1 <= data3)\n",
    "print(data1 > data3)\n",
    "print(data1 >= data3)"
   ]
  }
 ],
 "metadata": {
  "kernelspec": {
   "display_name": "Python 3",
   "language": "python",
   "name": "python3"
  },
  "language_info": {
   "codemirror_mode": {
    "name": "ipython",
    "version": 3
   },
   "file_extension": ".py",
   "mimetype": "text/x-python",
   "name": "python",
   "nbconvert_exporter": "python",
   "pygments_lexer": "ipython3",
   "version": "3.13.2"
  }
 },
 "nbformat": 4,
 "nbformat_minor": 2
}
