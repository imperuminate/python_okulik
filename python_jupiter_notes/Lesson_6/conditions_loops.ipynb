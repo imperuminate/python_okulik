{
 "cells": [
  {
   "cell_type": "markdown",
   "metadata": {},
   "source": [
    "# Conditions & Loops"
   ]
  },
  {
   "cell_type": "code",
   "execution_count": 16,
   "metadata": {},
   "outputs": [
    {
     "name": "stdout",
     "output_type": "stream",
     "text": [
      "Its two\n"
     ]
    }
   ],
   "source": [
    "student_number = input('Enter a number')\n",
    "\n",
    "if student_number.isnumeric():\n",
    "    student_number = int(student_number)\n",
    "    if student_number == 1:\n",
    "        print(\"Its one\")\n",
    "    elif student_number == 2:\n",
    "        print(\"Its two\")\n",
    "    else:\n",
    "        print('Its a lot')\n",
    "else:\n",
    "    print('Wrong type')"
   ]
  },
  {
   "cell_type": "code",
   "execution_count": null,
   "metadata": {},
   "outputs": [
    {
     "name": "stdout",
     "output_type": "stream",
     "text": [
      "Ketty\n",
      "Lada\n",
      "Jack\n",
      "Ali\n"
     ]
    }
   ],
   "source": [
    "names = ['Ketty', 'Lada', 'Jack', 'Ali', 'Lim', 'Bill']\n",
    "\n",
    "for name in names:\n",
    "    print(name)"
   ]
  },
  {
   "cell_type": "code",
   "execution_count": 21,
   "metadata": {},
   "outputs": [
    {
     "name": "stdout",
     "output_type": "stream",
     "text": [
      "Ketty\n",
      "Lada\n",
      "Mr. Jack\n",
      "Ali\n",
      "Lim\n",
      "Bill\n",
      "Mr. Jacob\n"
     ]
    }
   ],
   "source": [
    "names = ['Ketty', 'Lada', 'Jack', 'Ali', 'Lim', 'Bill', 'Jacob']\n",
    "\n",
    "for name in names:\n",
    "    if name.startswith('J'):\n",
    "        print('Mr.', end=' ')\n",
    "    print(name)"
   ]
  },
  {
   "cell_type": "code",
   "execution_count": 24,
   "metadata": {},
   "outputs": [
    {
     "name": "stdout",
     "output_type": "stream",
     "text": [
      "key\n",
      "two_key\n",
      "2\n",
      "value\n",
      "two_value\n",
      "3\n"
     ]
    }
   ],
   "source": [
    "my_dict = {\"key\": \"value\", \"two_key\": \"two_value\", 2: 3}\n",
    "\n",
    "for key in my_dict:\n",
    "    print(key)\n",
    "\n",
    "for val in my_dict.values():\n",
    "    print(val)"
   ]
  },
  {
   "cell_type": "code",
   "execution_count": null,
   "metadata": {},
   "outputs": [
    {
     "name": "stdout",
     "output_type": "stream",
     "text": [
      "key: value\n",
      "two_key: two_value\n",
      "2: 3\n"
     ]
    }
   ],
   "source": [
    "my_dict = {\"key\": \"value\", \"two_key\": \"two_value\", 2: 3}\n",
    "\n",
    "for key in my_dict:\n",
    "    print(f'{key}: {my_dict[key]}')"
   ]
  },
  {
   "cell_type": "code",
   "execution_count": 32,
   "metadata": {},
   "outputs": [
    {
     "name": "stdout",
     "output_type": "stream",
     "text": [
      "key: value\n",
      "two_key: two_value\n",
      "2: 3\n"
     ]
    }
   ],
   "source": [
    "my_dict = {\"key\": \"value\", \"two_key\": \"two_value\", 2: 3}\n",
    "\n",
    "for key, value in my_dict.items():\n",
    "    print(f'{key}: {value}')"
   ]
  },
  {
   "cell_type": "code",
   "execution_count": 36,
   "metadata": {},
   "outputs": [
    {
     "name": "stdout",
     "output_type": "stream",
     "text": [
      "зовут\n",
      "Окулик.\n",
      "работаю\n",
      "тестировщиком\n",
      "более\n",
      "Меня Евгений Я 15 лет.\n"
     ]
    }
   ],
   "source": [
    "# нужно распечатать и выбросить все слова с буквой 'о'\n",
    "\n",
    "text = 'Меня зовут Евгений Окулик. Я работаю тестировщиком более 15 лет.'\n",
    "text_list = text.split()\n",
    "new_text = []\n",
    "\n",
    "for word in text_list:\n",
    "    if 'о' in word or 'О' in word:\n",
    "        print(word)\n",
    "    else:\n",
    "        new_text.append(word)\n",
    "\n",
    "print(' '.join(new_text))"
   ]
  }
 ],
 "metadata": {
  "kernelspec": {
   "display_name": "Python 3",
   "language": "python",
   "name": "python3"
  },
  "language_info": {
   "codemirror_mode": {
    "name": "ipython",
    "version": 3
   },
   "file_extension": ".py",
   "mimetype": "text/x-python",
   "name": "python",
   "nbconvert_exporter": "python",
   "pygments_lexer": "ipython3",
   "version": "3.13.2"
  }
 },
 "nbformat": 4,
 "nbformat_minor": 2
}
