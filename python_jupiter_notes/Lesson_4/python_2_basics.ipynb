{
 "cells": [
  {
   "cell_type": "markdown",
   "metadata": {},
   "source": [
    "# Канкатенация\n",
    "\n",
    "- строки можно складывать, строки можно умножать\n",
    "- "
   ]
  },
  {
   "cell_type": "code",
   "execution_count": null,
   "metadata": {},
   "outputs": [
    {
     "name": "stdout",
     "output_type": "stream",
     "text": [
      "--------------------\n",
      "text new\n",
      "--------------------\n"
     ]
    }
   ],
   "source": [
    "text = \"text\"\n",
    "text += \" new\"\n",
    "symbol = \"-\"\n",
    "symbol *= 20\n",
    "print(symbol)\n",
    "print(text)\n",
    "print(\"-\" * 20)"
   ]
  },
  {
   "cell_type": "markdown",
   "metadata": {},
   "source": [
    "### Способы ввода данных:\n",
    "\n",
    "- клавиатура (input)\n",
    "    - тут будет всегда строка, даже если ввести число\n",
    "- чтение из файла\n",
    "- база данных\n",
    "- api"
   ]
  },
  {
   "cell_type": "code",
   "execution_count": null,
   "metadata": {},
   "outputs": [
    {
     "name": "stdout",
     "output_type": "stream",
     "text": [
      "redredred\n"
     ]
    }
   ],
   "source": [
    "text = input(\"Введи текст\")\n",
    "text *= 3\n",
    "print(text)"
   ]
  },
  {
   "cell_type": "markdown",
   "metadata": {},
   "source": [
    "### Соединение строк"
   ]
  },
  {
   "cell_type": "code",
   "execution_count": null,
   "metadata": {},
   "outputs": [
    {
     "name": "stdout",
     "output_type": "stream",
     "text": [
      "testisgood!\n",
      "test is good !\n",
      "testisgood!\n"
     ]
    }
   ],
   "source": [
    "text = \"test\"\n",
    "print(text + \"is\" + \"good\" + \"!\")\n",
    "print(text, \"is\", \"good\", \"!\")\n",
    "print(text, \"is\", \"good\", \"!\", sep=\"\")"
   ]
  },
  {
   "cell_type": "markdown",
   "metadata": {},
   "source": [
    "### Преобразование типов данных"
   ]
  },
  {
   "cell_type": "code",
   "execution_count": null,
   "metadata": {},
   "outputs": [
    {
     "name": "stdout",
     "output_type": "stream",
     "text": [
      "5\n"
     ]
    }
   ],
   "source": [
    "num = int(input(\"Enter some number\"))\n",
    "print(num + 2)"
   ]
  },
  {
   "cell_type": "code",
   "execution_count": null,
   "metadata": {},
   "outputs": [
    {
     "name": "stdout",
     "output_type": "stream",
     "text": [
      "<class 'bool'>\n",
      "<class 'int'>\n",
      "1\n"
     ]
    }
   ],
   "source": [
    "x = True\n",
    "print(type(x))\n",
    "x = int(x)\n",
    "print(type(x))\n",
    "print(x)"
   ]
  },
  {
   "cell_type": "code",
   "execution_count": 30,
   "metadata": {},
   "outputs": [
    {
     "name": "stdout",
     "output_type": "stream",
     "text": [
      "<class 'int'>\n",
      "<class 'bool'>\n",
      "True\n"
     ]
    }
   ],
   "source": [
    "x = 1\n",
    "print(type(x))\n",
    "x = bool(x)\n",
    "print(type(x))\n",
    "print(x)"
   ]
  },
  {
   "cell_type": "markdown",
   "metadata": {},
   "source": [
    "### Сложеые типы данных\n",
    "- List\n",
    "- Tuple\n",
    "- Set\n",
    "- Dictonary \n"
   ]
  },
  {
   "cell_type": "code",
   "execution_count": 41,
   "metadata": {},
   "outputs": [
    {
     "name": "stdout",
     "output_type": "stream",
     "text": [
      "<class 'tuple'>\n",
      "<class 'tuple'>\n",
      "2\n",
      "4\n",
      "<class 'list'>\n",
      "[1, 2, 4, 3, 34]\n"
     ]
    }
   ],
   "source": [
    "tuple = 1, 2, 4\n",
    "print(type(tuple))\n",
    "\n",
    "tuple2 = (1, 2, 4)\n",
    "print(type(tuple2))\n",
    "\n",
    "list = [1, 2, 4]\n",
    "print(list[1])\n",
    "print(list[-1])\n",
    "print(type(list))\n",
    "list.append(34)\n",
    "list.insert(3, 3)\n",
    "print(list)"
   ]
  },
  {
   "cell_type": "code",
   "execution_count": 43,
   "metadata": {},
   "outputs": [
    {
     "name": "stdout",
     "output_type": "stream",
     "text": [
      "0\n"
     ]
    }
   ],
   "source": [
    "my_tuole = (1, 2, 3, 1)\n",
    "print(my_tuole.index(1))"
   ]
  }
 ],
 "metadata": {
  "kernelspec": {
   "display_name": "Python 3",
   "language": "python",
   "name": "python3"
  },
  "language_info": {
   "codemirror_mode": {
    "name": "ipython",
    "version": 3
   },
   "file_extension": ".py",
   "mimetype": "text/x-python",
   "name": "python",
   "nbconvert_exporter": "python",
   "pygments_lexer": "ipython3",
   "version": "3.13.2"
  }
 },
 "nbformat": 4,
 "nbformat_minor": 2
}
