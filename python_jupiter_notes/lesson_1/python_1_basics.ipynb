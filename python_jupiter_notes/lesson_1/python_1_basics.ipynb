{
 "cells": [
  {
   "cell_type": "markdown",
   "metadata": {},
   "source": [
    "# Python"
   ]
  },
  {
   "cell_type": "markdown",
   "metadata": {},
   "source": [
    "## Идентификаторы. How to name diferent things\n",
    "- myClass - uppercase letter only for classes\n",
    "- var_1\n",
    "- print_this_text"
   ]
  },
  {
   "cell_type": "markdown",
   "metadata": {},
   "source": [
    "## Data types\n",
    "\n",
    "### Bacic types\n",
    "- int - integer (3)\n",
    "- float - (3.14)\n",
    "- str - string (\"Some text\")\n",
    "- bool - boolean (True / False)\n",
    "- None\n",
    "\n",
    "you can do int + float\n",
    "\n",
    "you cannot do int + str"
   ]
  },
  {
   "cell_type": "code",
   "execution_count": 5,
   "metadata": {},
   "outputs": [
    {
     "ename": "TypeError",
     "evalue": "can only concatenate str (not \"float\") to str",
     "output_type": "error",
     "traceback": [
      "\u001b[1;31m---------------------------------------------------------------------------\u001b[0m",
      "\u001b[1;31mTypeError\u001b[0m                                 Traceback (most recent call last)",
      "Cell \u001b[1;32mIn[5], line 5\u001b[0m\n\u001b[0;32m      3\u001b[0m ab \u001b[38;5;241m=\u001b[39m a \u001b[38;5;241m+\u001b[39m b\n\u001b[0;32m      4\u001b[0m s \u001b[38;5;241m=\u001b[39m \u001b[38;5;124m'\u001b[39m\u001b[38;5;124mMy string\u001b[39m\u001b[38;5;124m'\u001b[39m\n\u001b[1;32m----> 5\u001b[0m sb \u001b[38;5;241m=\u001b[39m \u001b[43ms\u001b[49m\u001b[43m \u001b[49m\u001b[38;5;241;43m+\u001b[39;49m\u001b[43m \u001b[49m\u001b[43mb\u001b[49m\n\u001b[0;32m      7\u001b[0m \u001b[38;5;28mprint\u001b[39m(ab)\n\u001b[0;32m      8\u001b[0m \u001b[38;5;28mprint\u001b[39m(sb)\n",
      "\u001b[1;31mTypeError\u001b[0m: can only concatenate str (not \"float\") to str"
     ]
    }
   ],
   "source": [
    "a = 3\n",
    "b = 3.14\n",
    "ab = a + b\n",
    "s = 'My string'\n",
    "sb = s + b\n",
    "\n",
    "print(ab)\n",
    "print(sb)\n",
    "type(ab)\n",
    "type(sb)\n"
   ]
  },
  {
   "cell_type": "markdown",
   "metadata": {},
   "source": [
    "- Арифметические:\n",
    "    - `+` \n",
    "    - `-` \n",
    "    - `*` \n",
    "    - `/` \n",
    "    - `//` целочисленное деление (без остатка) (10 // 3 = 3)\n",
    "    - `%` остаток от деления (5 % 2 = 1)\n",
    "    - `**` возмедение в степень (4 ** 2 = 16)\n",
    "- Сравнения:\n",
    "    - `<`\n",
    "    - `>`\n",
    "    - `<=`\n",
    "    - `>=` \n",
    "    - `==`\n",
    "    - `!=`\n",
    "- Присваивания:\n",
    "    - `=`\n",
    "    - `+=` это просто короткие формы длинной формы зиписи (а = а + 3)\n",
    "    - `-=`\n",
    "    - `*=`\n",
    "    - `/=`\n",
    "    - `%=` \n",
    "    - `**=` \n",
    "- Логически:\n",
    "    - `and` проверяет что оба слева и справа True, и тогда вернет True\n",
    "    - `or` проверяет что один из двух, слева или справа True, и тогда вернет True\n",
    "    - `not` тупо меняет False на True или наоборот\n",
    "- Битовые\n",
    "- Принадлежности:\n",
    "    - `in` True если находится в. False если не находится в (\"t\" in \"test\")\n",
    "    - `not in` наоборот, True если не находится\n",
    "- Идентичности:\n",
    "    - `is` True если переменные слева и справа ссылаются на одну и ту же ячейку памяти. (как правило, если значения в них одинаковые, то тоже будет True, но не всегда.\n",
    "    Надежнее думать от одной ячейке папяти. )\n",
    "    - `is not`  \n",
    "    Короче, все изза того что для цыфр до 256 в компе есть зарезервированые ячейки памяти. И поэтому создавая сколько угодно переменных со значением до 267, все они будут ссылаться на одни и те же ячейки. Тоесть все переменные с числом 7 будут ссылаться на одну и ту же ячейку. В все переменные с числом 257 будут ссылаться на разные, незарезервированяе ячейки в которых поместится число 257. "
   ]
  },
  {
   "cell_type": "code",
   "execution_count": null,
   "metadata": {},
   "outputs": [],
   "source": [
    "# Логическое and\n",
    "print(True and True)     # True\n",
    "print(True and False)    # False\n",
    " \n",
    "# Логическое or\n",
    "print(True or False)     # True\n",
    " \n",
    "# Логическое not\n",
    "print(not True)          # False"
   ]
  },
  {
   "cell_type": "code",
   "execution_count": 18,
   "metadata": {},
   "outputs": [
    {
     "data": {
      "text/plain": [
       "4.5"
      ]
     },
     "execution_count": 18,
     "metadata": {},
     "output_type": "execute_result"
    }
   ],
   "source": [
    "3 / 2 * 3"
   ]
  }
 ],
 "metadata": {
  "kernelspec": {
   "display_name": "Python 3",
   "language": "python",
   "name": "python3"
  },
  "language_info": {
   "codemirror_mode": {
    "name": "ipython",
    "version": 3
   },
   "file_extension": ".py",
   "mimetype": "text/x-python",
   "name": "python",
   "nbconvert_exporter": "python",
   "pygments_lexer": "ipython3",
   "version": "3.13.2"
  }
 },
 "nbformat": 4,
 "nbformat_minor": 2
}
