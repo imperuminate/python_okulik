{
 "cells": [
  {
   "cell_type": "markdown",
   "metadata": {},
   "source": [
    "## Decorators"
   ]
  },
  {
   "cell_type": "code",
   "execution_count": 12,
   "metadata": {},
   "outputs": [
    {
     "name": "stdout",
     "output_type": "stream",
     "text": [
      "hello\n"
     ]
    }
   ],
   "source": [
    "def greet():\n",
    "\n",
    "    def hello():\n",
    "        return 'hello'\n",
    "\n",
    "    return hello()  # return result of the hello function\n",
    "\n",
    "\n",
    "say_hi = greet\n",
    "\n",
    "print(say_hi())"
   ]
  },
  {
   "cell_type": "code",
   "execution_count": 13,
   "metadata": {},
   "outputs": [
    {
     "name": "stdout",
     "output_type": "stream",
     "text": [
      "innet func\n"
     ]
    }
   ],
   "source": [
    "def outer():\n",
    "\n",
    "    def inner():\n",
    "        return 'innet func'\n",
    "\n",
    "    return inner  # return inner function. Not a result of inner func\n",
    "\n",
    "\n",
    "print(outer()())"
   ]
  },
  {
   "cell_type": "code",
   "execution_count": 14,
   "metadata": {},
   "outputs": [
    {
     "name": "stdout",
     "output_type": "stream",
     "text": [
      "simple 2\n"
     ]
    }
   ],
   "source": [
    "def func1(give_me_a_func):\n",
    "    return give_me_a_func()\n",
    "\n",
    "\n",
    "def simple1():\n",
    "    print('simple 1')\n",
    "\n",
    "\n",
    "def simple2():\n",
    "    print('simple 2')\n",
    "\n",
    "\n",
    "func1(simple2)"
   ]
  },
  {
   "cell_type": "markdown",
   "metadata": {},
   "source": [
    "- This is not decorator yet. Its just sending func inside another func "
   ]
  },
  {
   "cell_type": "code",
   "execution_count": 11,
   "metadata": {},
   "outputs": [
    {
     "name": "stdout",
     "output_type": "stream",
     "text": [
      "before\n",
      "simple 1\n",
      "after\n"
     ]
    }
   ],
   "source": [
    "def add_text(func):\n",
    "    def wrapper():\n",
    "        print('before')\n",
    "        func()\n",
    "        print('after')\n",
    "    return wrapper()\n",
    "\n",
    "\n",
    "def simple1():\n",
    "    print('simple 1')\n",
    "\n",
    "\n",
    "def simple2():\n",
    "    print('simple 2')\n",
    "\n",
    "\n",
    "add_text(simple1)"
   ]
  },
  {
   "cell_type": "markdown",
   "metadata": {},
   "source": [
    "- This is decorators"
   ]
  },
  {
   "cell_type": "code",
   "execution_count": 13,
   "metadata": {},
   "outputs": [
    {
     "name": "stdout",
     "output_type": "stream",
     "text": [
      "before\n",
      "simple 1\n",
      "after\n",
      "before\n",
      "simple 2\n",
      "after\n"
     ]
    }
   ],
   "source": [
    "def add_text(func):\n",
    "    def wrapper():\n",
    "        print('before')\n",
    "        func()\n",
    "        print('after')\n",
    "    return wrapper\n",
    "\n",
    "\n",
    "@add_text\n",
    "def simple1():\n",
    "    print('simple 1')\n",
    "\n",
    "\n",
    "@add_text\n",
    "def simple2():\n",
    "    print('simple 2')\n",
    "\n",
    "\n",
    "simple1()  # add_text(simple1)()\n",
    "simple2()"
   ]
  },
  {
   "cell_type": "code",
   "execution_count": 22,
   "metadata": {},
   "outputs": [
    {
     "name": "stdout",
     "output_type": "stream",
     "text": [
      "The simple1 function is running now\n",
      "simple 1\n",
      "wrapper is finished\n",
      "The simple2 function is running now\n",
      "wrapper is finished\n"
     ]
    },
    {
     "data": {
      "text/plain": [
       "'simple 2'"
      ]
     },
     "execution_count": 22,
     "metadata": {},
     "output_type": "execute_result"
    }
   ],
   "source": [
    "def add_logs(func):\n",
    "    def wrapper():\n",
    "        print(f'The {func.__name__} function is running now')\n",
    "        result = func()\n",
    "        print('wrapper is finished')\n",
    "        return result\n",
    "    return wrapper\n",
    "\n",
    "\n",
    "@add_logs\n",
    "def simple1():\n",
    "    print('simple 1')\n",
    "\n",
    "\n",
    "@add_logs\n",
    "def simple2():\n",
    "    return 'simple 2'\n",
    "\n",
    "\n",
    "simple1()\n",
    "simple2()"
   ]
  },
  {
   "cell_type": "code",
   "execution_count": 33,
   "metadata": {},
   "outputs": [
    {
     "name": "stdout",
     "output_type": "stream",
     "text": [
      "The simple1 function is running now\n",
      "simple 1\n",
      "wrapper is finished\n",
      "The calc function is running now\n",
      "6\n",
      "wrapper is finished\n",
      "The calc2 function is running now\n",
      "9\n",
      "wrapper is finished\n"
     ]
    }
   ],
   "source": [
    "def add_logs(func):\n",
    "    def wrapper(*args):\n",
    "        print(f'The {func.__name__} function is running now')\n",
    "        result = func(*args)\n",
    "        print('wrapper is finished')\n",
    "        return result\n",
    "    return wrapper\n",
    "\n",
    "\n",
    "@add_logs\n",
    "def simple1():\n",
    "    print('simple 1')\n",
    "\n",
    "\n",
    "@add_logs\n",
    "def calc(x):\n",
    "    print(x * 2)\n",
    "\n",
    "\n",
    "@add_logs\n",
    "def calc2(x, y):\n",
    "    print(x * y)\n",
    "\n",
    "\n",
    "simple1()\n",
    "calc(3)\n",
    "calc2(3, 3)"
   ]
  },
  {
   "cell_type": "markdown",
   "metadata": {},
   "source": [
    "## List comprehension"
   ]
  },
  {
   "cell_type": "code",
   "execution_count": null,
   "metadata": {},
   "outputs": [
    {
     "name": "stdout",
     "output_type": "stream",
     "text": [
      "(2, 4, 6, 8, 10, 12, 14, 16, 18, 20)\n",
      "(2, 4, 6, 8, 10, 12, 14, 16, 18, 20)\n"
     ]
    }
   ],
   "source": [
    "my_list = [1, 2, 3, 4, 5, 6, 7, 8, 9, 10]\n",
    "\n",
    "new_list = [x * 2 for x in my_list]\n",
    "\n",
    "print(new_list)"
   ]
  },
  {
   "cell_type": "code",
   "execution_count": 40,
   "metadata": {},
   "outputs": [
    {
     "name": "stdout",
     "output_type": "stream",
     "text": [
      "[2, 4, 6, 8, 10]\n"
     ]
    }
   ],
   "source": [
    "my_list = [1, 2, 3, 4, 5, 6, 7, 8, 9, 10]\n",
    "\n",
    "new_list = [x for x in my_list if x % 2 == 0]\n",
    "\n",
    "print(new_list)"
   ]
  },
  {
   "cell_type": "code",
   "execution_count": 43,
   "metadata": {},
   "outputs": [
    {
     "name": "stdout",
     "output_type": "stream",
     "text": [
      "{'1': 1, '2': 2, '3': 3, '4': 4, '5': 5, '6': 6, '7': 7, '8': 8, '9': 9, '10': 10}\n"
     ]
    }
   ],
   "source": [
    "my_list = [1, 2, 3, 4, 5, 6, 7, 8, 9, 10]\n",
    "\n",
    "new_dict = {}\n",
    "\n",
    "for x in my_list:\n",
    "    new_dict[str(x)] = x\n",
    "\n",
    "print(new_dict)"
   ]
  },
  {
   "cell_type": "code",
   "execution_count": 44,
   "metadata": {},
   "outputs": [
    {
     "name": "stdout",
     "output_type": "stream",
     "text": [
      "{'1': 1, '2': 2, '3': 3, '4': 4, '5': 5, '6': 6, '7': 7, '8': 8, '9': 9, '10': 10}\n"
     ]
    }
   ],
   "source": [
    "my_list = [1, 2, 3, 4, 5, 6, 7, 8, 9, 10]\n",
    "\n",
    "new_dict = {str(x): x for x in my_list}\n",
    "\n",
    "\n",
    "print(new_dict)"
   ]
  },
  {
   "cell_type": "code",
   "execution_count": 46,
   "metadata": {},
   "outputs": [
    {
     "name": "stdout",
     "output_type": "stream",
     "text": [
      "{'one': 'two', 'three': 'four'}\n"
     ]
    }
   ],
   "source": [
    "data = [('one', 'two'), ('three', 'four')]\n",
    "\n",
    "# new_dict = {key: value for key, value in data}\n",
    "new_dict = dict(data)\n",
    "\n",
    "print(new_dict)"
   ]
  },
  {
   "cell_type": "code",
   "execution_count": 49,
   "metadata": {},
   "outputs": [
    {
     "data": {
      "text/plain": [
       "{'USA': 23, 'Hawaii': 33, 'Cuba': 35}"
      ]
     },
     "execution_count": 49,
     "metadata": {},
     "output_type": "execute_result"
    }
   ],
   "source": [
    "countries = ['USA', 'Hawaii', 'Cuba']\n",
    "temps = [23, 33, 35]\n",
    "\n",
    "dict(zip(countries, temps))"
   ]
  }
 ],
 "metadata": {
  "kernelspec": {
   "display_name": "Python 3",
   "language": "python",
   "name": "python3"
  },
  "language_info": {
   "codemirror_mode": {
    "name": "ipython",
    "version": 3
   },
   "file_extension": ".py",
   "mimetype": "text/x-python",
   "name": "python",
   "nbconvert_exporter": "python",
   "pygments_lexer": "ipython3",
   "version": "3.13.2"
  }
 },
 "nbformat": 4,
 "nbformat_minor": 2
}
