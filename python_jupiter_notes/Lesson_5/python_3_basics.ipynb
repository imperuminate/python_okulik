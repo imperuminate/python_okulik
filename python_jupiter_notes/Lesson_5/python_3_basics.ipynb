{
 "cells": [
  {
   "cell_type": "markdown",
   "metadata": {},
   "source": [
    "## Расспаковка элементов"
   ]
  },
  {
   "cell_type": "code",
   "execution_count": 3,
   "metadata": {},
   "outputs": [
    {
     "name": "stdout",
     "output_type": "stream",
     "text": [
      "1\n",
      "2\n"
     ]
    }
   ],
   "source": [
    "my_list = [1, 2]\n",
    "my_tuple = (4, 5, 6)\n",
    "\n",
    "a, b = my_list\n",
    "print(a)\n",
    "print(b)"
   ]
  },
  {
   "cell_type": "code",
   "execution_count": null,
   "metadata": {},
   "outputs": [
    {
     "name": "stdout",
     "output_type": "stream",
     "text": [
      "[1, 2]\n",
      "[1, 2, 4, 5]\n",
      "[1, 4]\n",
      "[6, 5, 4]\n"
     ]
    }
   ],
   "source": [
    "my_list = [1, 2, 4, 5, 6]\n",
    "print(my_list[0:2])  # от и до (до не включительно)\n",
    "print(my_list[:4])\n",
    "print(my_list[:4:2])\n",
    "print(my_list[:1:-1])  # Распечатает с конца"
   ]
  },
  {
   "cell_type": "code",
   "execution_count": 24,
   "metadata": {},
   "outputs": [
    {
     "name": "stdout",
     "output_type": "stream",
     "text": [
      "['text', 'text', 'text', 'text']\n"
     ]
    }
   ],
   "source": [
    "import re\n",
    "\n",
    "my_text = \"text,text.text text\"\n",
    "words = re.split(r\"[,. ]+\", my_text)  # Разделяем по запятой, точке и пробелу\n",
    "print(words)"
   ]
  }
 ],
 "metadata": {
  "kernelspec": {
   "display_name": "Python 3",
   "language": "python",
   "name": "python3"
  },
  "language_info": {
   "codemirror_mode": {
    "name": "ipython",
    "version": 3
   },
   "file_extension": ".py",
   "mimetype": "text/x-python",
   "name": "python",
   "nbconvert_exporter": "python",
   "pygments_lexer": "ipython3",
   "version": "3.13.2"
  }
 },
 "nbformat": 4,
 "nbformat_minor": 2
}
