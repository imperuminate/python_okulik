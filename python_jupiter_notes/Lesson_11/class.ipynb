{
 "cells": [
  {
   "cell_type": "markdown",
   "metadata": {},
   "source": [
    "## Class"
   ]
  },
  {
   "cell_type": "code",
   "execution_count": null,
   "metadata": {},
   "outputs": [],
   "source": [
    "from abc import abstractmethod\n",
    "\n",
    "\n",
    "class Group:\n",
    "    pupils = True\n",
    "    school_number = 1\n",
    "    director = 'Marivanna'\n",
    "\n",
    "    def study(self):\n",
    "        print('Im studing')\n",
    "\n",
    "    @abstractmethod\n",
    "    def move(self):\n",
    "        pass\n",
    "\n",
    "\n",
    "class PrimaryGroup(Group):\n",
    "    max_age = 11\n",
    "    min_age = 6\n",
    "    building_section = 'Primary building'\n",
    "\n",
    "    def move(self):\n",
    "        print('Runing fast')\n",
    "\n",
    "\n",
    "class HighGroup(Group):\n",
    "    max_age = 18\n",
    "    min_age = 14\n",
    "\n",
    "    def move(self):\n",
    "        print('Walking slowly')"
   ]
  },
  {
   "cell_type": "code",
   "execution_count": 7,
   "metadata": {},
   "outputs": [
    {
     "name": "stdout",
     "output_type": "stream",
     "text": [
      "Primary building\n",
      "Im studing\n",
      "Walking slowly\n"
     ]
    }
   ],
   "source": [
    "first_a = PrimaryGroup()\n",
    "eleven_a = HighGroup()\n",
    "\n",
    "print(first_a.building_section)\n",
    "first_a.study()\n",
    "eleven_a.move()"
   ]
  }
 ],
 "metadata": {
  "kernelspec": {
   "display_name": "Python 3",
   "language": "python",
   "name": "python3"
  },
  "language_info": {
   "codemirror_mode": {
    "name": "ipython",
    "version": 3
   },
   "file_extension": ".py",
   "mimetype": "text/x-python",
   "name": "python",
   "nbconvert_exporter": "python",
   "pygments_lexer": "ipython3",
   "version": "3.13.2"
  }
 },
 "nbformat": 4,
 "nbformat_minor": 2
}
