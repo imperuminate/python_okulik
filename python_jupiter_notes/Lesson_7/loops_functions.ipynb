{
 "cells": [
  {
   "cell_type": "markdown",
   "metadata": {},
   "source": [
    "## While"
   ]
  },
  {
   "cell_type": "code",
   "execution_count": 2,
   "metadata": {},
   "outputs": [
    {
     "name": "stdout",
     "output_type": "stream",
     "text": [
      "Hello 0\n",
      "Hello 1\n",
      "Hello 2\n",
      "Hello 3\n",
      "Hello 4\n"
     ]
    }
   ],
   "source": [
    "i = 0\n",
    "\n",
    "while i < 5:\n",
    "    print(f'Hello {i}')\n",
    "    i += 1"
   ]
  },
  {
   "cell_type": "code",
   "execution_count": 5,
   "metadata": {},
   "outputs": [
    {
     "name": "stdout",
     "output_type": "stream",
     "text": [
      "Your input is ok\n",
      "Your program is finished\n"
     ]
    }
   ],
   "source": [
    "while True:\n",
    "    user_input = input('Enter something: ')\n",
    "    if user_input == 'exit':\n",
    "        break\n",
    "    elif user_input == 'skip':\n",
    "        continue\n",
    "    elif len(user_input) > 10:\n",
    "        print('Your input is too long!')\n",
    "    else:\n",
    "        print('Your input is ok')\n",
    "\n",
    "print('Your program is finished')"
   ]
  },
  {
   "cell_type": "code",
   "execution_count": 6,
   "metadata": {},
   "outputs": [
    {
     "name": "stdout",
     "output_type": "stream",
     "text": [
      "зовут\n",
      "Окулик.\n",
      "работаю\n",
      "тестировщиком\n",
      "более\n",
      "Меня Евгений Я 15 лет.\n"
     ]
    }
   ],
   "source": [
    "text = 'Меня зовут Евгений Окулик. Я работаю тестировщиком более 15 лет.'\n",
    "text_list = text.split()\n",
    "new_text = []\n",
    "\n",
    "for word in text_list:\n",
    "    if 'о' in word or 'О' in word:\n",
    "        print(word)\n",
    "        continue\n",
    "    new_text.append(word)\n",
    "\n",
    "print(' '.join(new_text))"
   ]
  },
  {
   "cell_type": "code",
   "execution_count": null,
   "metadata": {},
   "outputs": [
    {
     "name": "stdout",
     "output_type": "stream",
     "text": [
      "1\n",
      "2\n",
      "3\n",
      "4\n"
     ]
    }
   ],
   "source": [
    "a = 1\n",
    "b = 2\n",
    "c = 3\n",
    "d = 4 \n",
    "e = 0\n",
    "main_number = 44\n",
    "\n",
    "def count(numb):\n",
    "    if e == 0:\n",
    "        print(numb)\n",
    "    else:\n",
    "        print(numb + main_number)\n",
    "\n",
    "count(a)\n",
    "count(b)\n",
    "count(c)\n",
    "count(d)\n"
   ]
  },
  {
   "cell_type": "code",
   "execution_count": 18,
   "metadata": {},
   "outputs": [
    {
     "name": "stdout",
     "output_type": "stream",
     "text": [
      "45\n",
      "46\n",
      "47\n",
      "48\n"
     ]
    }
   ],
   "source": [
    "a = 1\n",
    "b = 2\n",
    "c = 3\n",
    "d = 4 \n",
    "e = 1\n",
    "main_number = 44\n",
    "\n",
    "def calc(numb):\n",
    "    if e == 0:\n",
    "        return numb\n",
    "    else:\n",
    "        return numb + main_number\n",
    "    \n",
    "print(calc(a))\n",
    "print(calc(b))\n",
    "print(calc(c))\n",
    "print(calc(d))\n",
    "\n"
   ]
  },
  {
   "cell_type": "code",
   "execution_count": 20,
   "metadata": {},
   "outputs": [
    {
     "name": "stdout",
     "output_type": "stream",
     "text": [
      "one, two, three\n",
      "one, two, three\n"
     ]
    }
   ],
   "source": [
    "def print_me(first, seccond, third):\n",
    "    print(f'{first}, {seccond}, {third}')\n",
    "\n",
    "print_me('one', 'two', 'three')\n",
    "print_me(third='three', seccond='two', first='one')\n"
   ]
  },
  {
   "cell_type": "code",
   "execution_count": 21,
   "metadata": {},
   "outputs": [
    {
     "name": "stdout",
     "output_type": "stream",
     "text": [
      "9\n",
      "9\n"
     ]
    }
   ],
   "source": [
    "def pover(number, degree=2):\n",
    "    return number ** degree\n",
    "\n",
    "print(pover(3, 2))\n",
    "print(pover(3))"
   ]
  },
  {
   "cell_type": "code",
   "execution_count": 25,
   "metadata": {},
   "outputs": [
    {
     "data": {
      "text/plain": [
       "20"
      ]
     },
     "execution_count": 25,
     "metadata": {},
     "output_type": "execute_result"
    }
   ],
   "source": [
    "def sum_all(*args):\n",
    "    numb = 0\n",
    "    for numbs in args:\n",
    "        numb += numbs\n",
    "    return numb\n",
    "\n",
    "sum_all(2, 3, 4, 5, 6)\n"
   ]
  },
  {
   "cell_type": "code",
   "execution_count": 26,
   "metadata": {},
   "outputs": [
    {
     "data": {
      "text/plain": [
       "20"
      ]
     },
     "execution_count": 26,
     "metadata": {},
     "output_type": "execute_result"
    }
   ],
   "source": [
    "def sum_all(*args):\n",
    "    return sum(args)\n",
    "\n",
    "sum_all(2, 3, 4, 5, 6)"
   ]
  },
  {
   "cell_type": "code",
   "execution_count": 29,
   "metadata": {},
   "outputs": [
    {
     "name": "stdout",
     "output_type": "stream",
     "text": [
      "{'iphone': 250, 'laptop': 300}\n"
     ]
    }
   ],
   "source": [
    "def print_price(**kwars):\n",
    "    print(kwars)\n",
    "\n",
    "print_price(iphone=250, laptop=300)"
   ]
  }
 ],
 "metadata": {
  "kernelspec": {
   "display_name": "Python 3",
   "language": "python",
   "name": "python3"
  },
  "language_info": {
   "codemirror_mode": {
    "name": "ipython",
    "version": 3
   },
   "file_extension": ".py",
   "mimetype": "text/x-python",
   "name": "python",
   "nbconvert_exporter": "python",
   "pygments_lexer": "ipython3",
   "version": "3.12.5"
  }
 },
 "nbformat": 4,
 "nbformat_minor": 2
}
